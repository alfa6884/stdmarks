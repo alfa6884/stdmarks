{
 "cells": [
  {
   "cell_type": "code",
   "execution_count": 1,
   "id": "7ef01f61-7bb2-4462-b7b7-7255959385e4",
   "metadata": {},
   "outputs": [],
   "source": [
    "import pandas as pd\n",
    "import matplotlib.pyplot as plt\n",
    "import numpy as np\n",
    "from sklearn.linear_model import LinearRegression\n",
    "from sklearn.model_selection import train_test_split\n",
    "from sklearn.preprocessing import StandardScaler\n",
    "from sklearn.svm import SVR\n",
    "from sklearn.ensemble import RandomForestRegressor\n",
    "from sklearn.metrics import mean_squared_error,mean_absolute_error\n",
    "import pickle as pk"
   ]
  },
  {
   "cell_type": "code",
   "execution_count": 2,
   "id": "76ee1366-423a-43a2-a136-0f75047cc635",
   "metadata": {},
   "outputs": [],
   "source": [
    "df = pd.read_csv('marks.csv')"
   ]
  },
  {
   "cell_type": "code",
   "execution_count": 7,
   "id": "896d5a9b-28cf-4b98-aadc-938a5ca51ab0",
   "metadata": {},
   "outputs": [],
   "source": [
    "x = df['time_study']\n",
    "y = df['Marks']"
   ]
  },
  {
   "cell_type": "code",
   "execution_count": 8,
   "id": "9f051832-4ff0-4c79-8c5c-78916ad0d99c",
   "metadata": {},
   "outputs": [
    {
     "data": {
      "image/png": "[encoded data removed]",
      "text/plain": [
       "<Figure size 432x288 with 1 Axes>"
      ]
     },
     "metadata": {
      "needs_background": "light"
     },
     "output_type": "display_data"
    }
   ],
   "source": [
    "plt.scatter(x,y)\n",
    "plt.xlabel('hrs study')\n",
    "plt.ylabel('Marks')\n",
    "plt.show()"
   ]
  },
  {
   "cell_type": "code",
   "execution_count": 10,
   "id": "25bd7502-8056-46d3-9d9d-3185d9856801",
   "metadata": {},
   "outputs": [],
   "source": [
    "features = df.drop('Marks',axis=1)\n",
    "target = df['Marks']\n",
    "X_train,X_test,y_train,y_test = train_test_split(features,target,test_size=.4,random_state=42)\n",
    "scaler = StandardScaler()\n",
    "X_train = scaler.fit_transform(X_train)\n",
    "X_test = scaler.transform(X_test)"
   ]
  },
  {
   "cell_type": "code",
   "execution_count": 11,
   "id": "02ad4964-1cc5-40e9-bf95-40c2847eaa3c",
   "metadata": {},
   "outputs": [
    {
     "data": {
      "text/plain": [
       "array([39.30559724])"
      ]
     },
     "execution_count": 11,
     "metadata": {},
     "output_type": "execute_result"
    }
   ],
   "source": [
    "model = LinearRegression()\n",
    "model.fit(X_train,y_train)\n",
    "predictions = model.predict(X_test)\n",
    "model.predict([[4,0.096]])"
   ]
  },
  {
   "cell_type": "code",
   "execution_count": 12,
   "id": "b25f2a17-e6b5-4d8b-838e-d782315511dc",
   "metadata": {},
   "outputs": [],
   "source": [
    "pk.dump(model, open('model.pkl', 'wb'))"
   ]
  },
  {
   "cell_type": "code",
   "execution_count": 16,
   "id": "d1c2917b-3567-40ee-8d71-3f71c5cebd7a",
   "metadata": {},
   "outputs": [],
   "source": [
    "mdl = pk.load(open('model.pkl','rb'))"
   ]
  },
  {
   "cell_type": "code",
   "execution_count": 17,
   "id": "d6f6af67-3a81-41f2-9326-c05a14489d38",
   "metadata": {},
   "outputs": [
    {
     "data": {
      "text/plain": [
       "array([43.43945978])"
      ]
     },
     "execution_count": 17,
     "metadata": {},
     "output_type": "execute_result"
    }
   ],
   "source": [
    "mdl.predict([[2,0.985]])"
   ]
  },
  {
   "cell_type": "code",
   "execution_count": null,
   "id": "60c529e3-3db0-40ce-af2d-98138a2bd2d0",
   "metadata": {},
   "outputs": [],
   "source": [
    "#svc = SVR(kernel='linear')\n",
    "#svc.fit(X_train,y_train)\n",
    "#pr = svc.predict([[4,0.096]])\n",
    "#print(\"Linear Regression\",pr)\n",
    "#print(f\"Mean absolute error is: {mean_absolute_error(y_test,predictions)}\")\n",
    "#print(f\"Root Mean Square Error is: {mean_squared_error(y_test,predictions,squared=False)}\")"
   ]
  },
  {
   "cell_type": "code",
   "execution_count": null,
   "id": "80334558-ec2a-4a62-8e5c-0b36e2a138f0",
   "metadata": {},
   "outputs": [],
   "source": [
    "#rfr = RandomForestRegressor(n_estimators=200,random_state=42)\n",
    "#rfr.fit(X_train,y_train)\n",
    "#pred = rfr.predict([[4,0.096]])\n",
    "#print(\"Linear Regression\",pred)\n",
    "#print(f\"Mean absolute error is: {mean_absolute_error(y_test,predictions)}\")\n",
    "#print(f\"Root Mean Square Error is: {mean_squared_error(y_test,predictions,squared=False)}\")\n"
   ]
  }
 ],
 "metadata": {
  "kernelspec": {
   "display_name": "Python 3 (ipykernel)",
   "language": "python",
   "name": "python3"
  },
  "language_info": {
   "codemirror_mode": {
    "name": "ipython",
    "version": 3
   },
   "file_extension": ".py",
   "mimetype": "text/x-python",
   "name": "python",
   "nbconvert_exporter": "python",
   "pygments_lexer": "ipython3",
   "version": "3.9.7"
  }
 },
 "nbformat": 4,
 "nbformat_minor": 5
}
